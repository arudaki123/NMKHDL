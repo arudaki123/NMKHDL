{
 "cells": [
  {
   "cell_type": "markdown",
   "metadata": {},
   "source": [
    "# <div align=\"center\">ĐỒ ÁN KHOA HỌC DỮ LIỆU ỨNG DỤNG</div>"
   ]
  },
  {
   "cell_type": "markdown",
   "metadata": {},
   "source": [
    "#### Thành viên\n",
    "* Trần Đức Thắng - 1712761\n",
    "* Nguyễn Lê Trường Thành - 1712775\n",
    "* Đào Thanh Thiện - 1712782\n"
   ]
  },
  {
   "cell_type": "markdown",
   "metadata": {},
   "source": [
    "-------"
   ]
  },
  {
   "cell_type": "markdown",
   "metadata": {},
   "source": [
    "## <div align=\"center\"> XÂY DỰNG MÔ HÌNH ĐÁNH GIÁ ĐIỆN THOẠI QUA BÌNH LUẬN CỦA TRANG THEGIOIDIDONG.COM</div>"
   ]
  },
  {
   "cell_type": "markdown",
   "metadata": {},
   "source": [
    "## I. Dữ Liệu"
   ]
  },
  {
   "cell_type": "markdown",
   "metadata": {},
   "source": [
    "Dữ liệu được crawl trực tiếp từ trang [Thế Giới Di Động](https://www.thegioididong.com/) bao gồm tất cả **comment** (nhận xét) và **số sao** (biểu trưng mức độ hài lòng về sản phẩm) của điện thoại."
   ]
  },
  {
   "cell_type": "markdown",
   "metadata": {},
   "source": [
    "Sau quá trình crawl dữ liệu, thu được **5 file text** dự theo số sao của comment:\n",
    "* **comment1.txt** : Comment có đánh giá **1 sao**\n",
    "* **comment2.txt** : Comment có đánh giá **2 sao**\n",
    "* **comment3.txt** : Comment có đánh giá **3 sao**\n",
    "* **comment4.txt** : Comment có đánh giá **4 sao**\n",
    "* **comment5.txt** : Comment có đánh giá **5 sao**"
   ]
  },
  {
   "cell_type": "markdown",
   "metadata": {},
   "source": [
    "## II. Khám Phá Dữ Liệu"
   ]
  },
  {
   "cell_type": "markdown",
   "metadata": {},
   "source": [
    "#### 1. Import một số thư viện cần thiết"
   ]
  },
  {
   "cell_type": "code",
   "execution_count": 1,
   "metadata": {
    "colab": {
     "base_uri": "https://localhost:8080/"
    },
    "id": "AKhgmK7ia96U",
    "outputId": "20eae9c3-bd53-4b25-af12-8ab1d720e931"
   },
   "outputs": [
    {
     "name": "stderr",
     "output_type": "stream",
     "text": [
      "E:\\New folder\\puthon\\Ana\\lib\\site-packages\\sklearn\\externals\\joblib\\__init__.py:15: DeprecationWarning: sklearn.externals.joblib is deprecated in 0.21 and will be removed in 0.23. Please import this functionality directly from joblib, which can be installed with: pip install joblib. If this warning is raised when loading pickled models, you may need to re-serialize those models with scikit-learn 0.21+.\n",
      "  warnings.warn(msg, category=DeprecationWarning)\n"
     ]
    }
   ],
   "source": [
    "import numpy as np\n",
    "import pandas as pd\n",
    "import re\n",
    "from underthesea import word_tokenize # \n",
    "import os\n",
    "import matplotlib.pyplot as plt\n",
    "\n",
    "from sklearn import svm\n",
    "from sklearn.feature_extraction.text import TfidfVectorizer\n",
    "from sklearn.externals import joblib\n",
    "\n",
    "from sklearn.model_selection import train_test_split\n",
    "from sklearn.model_selection import GridSearchCV\n",
    "from sklearn.linear_model import LogisticRegression\n",
    "from sklearn.model_selection import cross_val_score\n",
    "from sklearn.metrics import accuracy_score\n",
    "\n",
    "import warnings\n",
    "warnings.filterwarnings('ignore')"
   ]
  },
  {
   "cell_type": "markdown",
   "metadata": {},
   "source": [
    "#### 2. Đọc dữ liệu và lưu vào dataframe"
   ]
  },
  {
   "cell_type": "markdown",
   "metadata": {},
   "source": [
    "*Do trong các comment đôi khi có dấu xuống dòng (\"\\n\") vì vậy nếu đọc file theo các thông thường từ các thư viện của pandas sẽ dẫn đến dữ liệu sai và thiếu, vì vậy cần viết hàm đọc file mới.*"
   ]
  },
  {
   "cell_type": "code",
   "execution_count": 2,
   "metadata": {
    "colab": {
     "base_uri": "https://localhost:8080/",
     "height": 346
    },
    "id": "6dOlbZUna96c",
    "outputId": "4beb7f48-5c5e-451f-a741-9e43d7d98977"
   },
   "outputs": [],
   "source": [
    "# load data\n",
    "def load_data_model(filepath, n, star):\n",
    "    data = []\n",
    "    with open(filepath, encoding=\"utf8\") as fp:\n",
    "        line = fp.readline()\n",
    "        if line.strip().split(':')[0] == 'Name':\n",
    "            name = line.strip().split(':')[1]\n",
    "            temp = ''\n",
    "        cnt = 1\n",
    "        while line:\n",
    "            #print(\"Line {}: {}\".format(cnt, line.strip()))\n",
    "            if line.strip().split(':')[0] == 'Name':\n",
    "                name = line.strip().split(': ')[1]\n",
    "                line = fp.readline()\n",
    "            elif line.strip() == '':\n",
    "                data.append([name, temp, n, star])\n",
    "                temp = ''\n",
    "            else:\n",
    "                temp += ' ' + line.strip()\n",
    "            line = fp.readline()\n",
    "    return pd.DataFrame(data, columns=['model', 'Text', 'Sentiment', 'Star'])"
   ]
  },
  {
   "cell_type": "code",
   "execution_count": 3,
   "metadata": {},
   "outputs": [
    {
     "data": {
      "text/html": [
       "<div>\n",
       "<style scoped>\n",
       "    .dataframe tbody tr th:only-of-type {\n",
       "        vertical-align: middle;\n",
       "    }\n",
       "\n",
       "    .dataframe tbody tr th {\n",
       "        vertical-align: top;\n",
       "    }\n",
       "\n",
       "    .dataframe thead th {\n",
       "        text-align: right;\n",
       "    }\n",
       "</style>\n",
       "<table border=\"1\" class=\"dataframe\">\n",
       "  <thead>\n",
       "    <tr style=\"text-align: right;\">\n",
       "      <th></th>\n",
       "      <th>model</th>\n",
       "      <th>Text</th>\n",
       "      <th>Sentiment</th>\n",
       "      <th>Star</th>\n",
       "    </tr>\n",
       "  </thead>\n",
       "  <tbody>\n",
       "    <tr>\n",
       "      <th>0</th>\n",
       "      <td>Samsung Galaxy A71</td>\n",
       "      <td>Dùng được 1 tháng thì sạc đến 95% là không lên nữa. Rút sạc ra cắm lại thì 100%, khônng hiểu.</td>\n",
       "      <td>0</td>\n",
       "      <td>1</td>\n",
       "    </tr>\n",
       "    <tr>\n",
       "      <th>1</th>\n",
       "      <td>Samsung Galaxy A71</td>\n",
       "      <td>Trời ơi làm ơn cho đổi máy khác đi mua mấy tháng giờ lỗi phần đánh thức buồn kg trôi.đưa đi kiểm tra rồi về vẫn bị a71 .là vậy sao làm ơn đôi máy khác đi</td>\n",
       "      <td>0</td>\n",
       "      <td>1</td>\n",
       "    </tr>\n",
       "    <tr>\n",
       "      <th>2</th>\n",
       "      <td>Samsung Galaxy A71</td>\n",
       "      <td>Máy mua mới từ tháng 5/2020 Dùng được 3 tháng thì cắm sạc không vào ( điện thoại không rơi vào nước, không để nước vào ) Mang ra bảo hành thì báo lỗi cá nhân không được bảo hành thay mất 800k.</td>\n",
       "      <td>0</td>\n",
       "      <td>1</td>\n",
       "    </tr>\n",
       "  </tbody>\n",
       "</table>\n",
       "</div>"
      ],
      "text/plain": [
       "                model  \\\n",
       "0  Samsung Galaxy A71   \n",
       "1  Samsung Galaxy A71   \n",
       "2  Samsung Galaxy A71   \n",
       "\n",
       "                                                                                                                                                                                                Text  \\\n",
       "0                                                                                                      Dùng được 1 tháng thì sạc đến 95% là không lên nữa. Rút sạc ra cắm lại thì 100%, khônng hiểu.   \n",
       "1                                      Trời ơi làm ơn cho đổi máy khác đi mua mấy tháng giờ lỗi phần đánh thức buồn kg trôi.đưa đi kiểm tra rồi về vẫn bị a71 .là vậy sao làm ơn đôi máy khác đi   \n",
       "2   Máy mua mới từ tháng 5/2020 Dùng được 3 tháng thì cắm sạc không vào ( điện thoại không rơi vào nước, không để nước vào ) Mang ra bảo hành thì báo lỗi cá nhân không được bảo hành thay mất 800k.   \n",
       "\n",
       "   Sentiment  Star  \n",
       "0          0     1  \n",
       "1          0     1  \n",
       "2          0     1  "
      ]
     },
     "execution_count": 3,
     "metadata": {},
     "output_type": "execute_result"
    }
   ],
   "source": [
    "data1 = load_data_model('comment1.txt', 0, 1)\n",
    "data2 = load_data_model('comment2.txt', 0, 2)\n",
    "data3 = load_data_model('comment3.txt', 1, 3)\n",
    "data4 = load_data_model('comment4.txt', 1, 4)\n",
    "data5 = load_data_model('comment5.txt', 1, 5)\n",
    "df = pd.concat([data1, data2, data3, data4, data5], ignore_index=True)\n",
    "\n",
    "pd.set_option('display.max_colwidth',1000)\n",
    "\n",
    "df.head(3)"
   ]
  },
  {
   "cell_type": "markdown",
   "metadata": {},
   "source": [
    "#### 3. Thông tin thuộc tính"
   ]
  },
  {
   "cell_type": "code",
   "execution_count": 4,
   "metadata": {},
   "outputs": [
    {
     "name": "stdout",
     "output_type": "stream",
     "text": [
      "Dữ liệu có 18018 dòng, 4 cột.\n"
     ]
    }
   ],
   "source": [
    "num_rows, num_cols = df.shape\n",
    "print(\"Dữ liệu có {} dòng, {} cột.\".format(num_rows, num_cols))"
   ]
  },
  {
   "cell_type": "markdown",
   "metadata": {},
   "source": [
    "* model : Tên điện thoại\n",
    "* Text : Nhận xét về điện thoại\n",
    "* Sentiment : Đánh giá (tốt/xấu)\n",
    "* Star : Số sao"
   ]
  },
  {
   "cell_type": "markdown",
   "metadata": {},
   "source": [
    "#### 4. Tiền xữ lý dữ liệu"
   ]
  },
  {
   "cell_type": "markdown",
   "metadata": {},
   "source": [
    "* Kiểm tra thông tin của dữ liệu"
   ]
  },
  {
   "cell_type": "code",
   "execution_count": 5,
   "metadata": {},
   "outputs": [
    {
     "name": "stdout",
     "output_type": "stream",
     "text": [
      "<class 'pandas.core.frame.DataFrame'>\n",
      "RangeIndex: 18018 entries, 0 to 18017\n",
      "Data columns (total 4 columns):\n",
      " #   Column     Non-Null Count  Dtype \n",
      "---  ------     --------------  ----- \n",
      " 0   model      18018 non-null  object\n",
      " 1   Text       18018 non-null  object\n",
      " 2   Sentiment  18018 non-null  int64 \n",
      " 3   Star       18018 non-null  int64 \n",
      "dtypes: int64(2), object(2)\n",
      "memory usage: 563.2+ KB\n",
      "\n",
      "=> Không có ô giá trị nào bị thiếu.\n"
     ]
    }
   ],
   "source": [
    "#xem thông tin data:\n",
    "df.info()\n",
    "if df.isnull().values.any() == False:\n",
    "    print(\"\\n=> Không có ô giá trị nào bị thiếu.\")\n",
    "else:\n",
    "    print(\"\\n=> Dữ liệu bị thiếu.\")"
   ]
  },
  {
   "cell_type": "markdown",
   "metadata": {},
   "source": [
    "* Thay đổi giá trị trong dữ liệu"
   ]
  },
  {
   "cell_type": "markdown",
   "metadata": {},
   "source": [
    "*Sau quá trình nhìn vào dữ liệu thì ta nhận ra dữ liệu đầy đủ, tại đây nếu chỉ để visualize dữ liệu thì có thể dừng.*\n",
    "\n",
    "*Nhưng ở đây chúng tôi muốn dùng dữ liệu để áp dụng vào mô hình học máy. Với dữ liệu text như Comment thì phải tiến hành chuẩn hoá dữ liệu để tăng khả năng học của mô hình học.*"
   ]
  },
  {
   "cell_type": "code",
   "execution_count": 6,
   "metadata": {},
   "outputs": [],
   "source": [
    "def standardize_data(row):\n",
    "    # Xóa dấu chấm, phẩy, hỏi ở cuối câu\n",
    "    row = re.sub(r\"[\\.,\\?]+$-\", \"\", row)\n",
    "    # Xóa tất cả dấu chấm, phẩy, chấm phẩy, chấm than, ... trong câu\n",
    "    row = row.replace(\",\", \" \").replace(\".\", \" \") \\\n",
    "        .replace(\";\", \" \").replace(\"“\", \" \") \\\n",
    "        .replace(\":\", \" \").replace(\"”\", \" \") \\\n",
    "        .replace('\"', \" \").replace(\"'\", \" \") \\\n",
    "        .replace(\"!\", \" \").replace(\"?\", \" \") \\\n",
    "        .replace(\"-\", \" \").replace(\"?\", \" \")\n",
    "    # xóa số trong câu\n",
    "    #row = re.sub(r'[0-9]+', '', row)\n",
    "    row = row.strip()\n",
    "    return row\n",
    "\n",
    "def tokenizer(row):\n",
    "    return word_tokenize(row, format=\"text\")"
   ]
  },
  {
   "cell_type": "code",
   "execution_count": 7,
   "metadata": {},
   "outputs": [
    {
     "name": "stdout",
     "output_type": "stream",
     "text": [
      "Wall time: 1min 4s\n"
     ]
    },
    {
     "data": {
      "text/html": [
       "<div>\n",
       "<style scoped>\n",
       "    .dataframe tbody tr th:only-of-type {\n",
       "        vertical-align: middle;\n",
       "    }\n",
       "\n",
       "    .dataframe tbody tr th {\n",
       "        vertical-align: top;\n",
       "    }\n",
       "\n",
       "    .dataframe thead th {\n",
       "        text-align: right;\n",
       "    }\n",
       "</style>\n",
       "<table border=\"1\" class=\"dataframe\">\n",
       "  <thead>\n",
       "    <tr style=\"text-align: right;\">\n",
       "      <th></th>\n",
       "      <th>model</th>\n",
       "      <th>Text</th>\n",
       "      <th>Sentiment</th>\n",
       "      <th>Star</th>\n",
       "    </tr>\n",
       "  </thead>\n",
       "  <tbody>\n",
       "    <tr>\n",
       "      <th>0</th>\n",
       "      <td>Samsung Galaxy A71</td>\n",
       "      <td>Dùng được 1 tháng thì sạc đến 95 % là không lên nữa Rút sạc ra cắm lại thì 100 % khônng hiểu</td>\n",
       "      <td>0</td>\n",
       "      <td>1</td>\n",
       "    </tr>\n",
       "    <tr>\n",
       "      <th>1</th>\n",
       "      <td>Samsung Galaxy A71</td>\n",
       "      <td>Trời_ơi làm_ơn cho đổi máy khác đi mua mấy tháng giờ lỗi phần đánh_thức buồn kg trôi đưa đi kiểm_tra rồi về vẫn bị a71 là vậy sao làm_ơn đôi máy khác đi</td>\n",
       "      <td>0</td>\n",
       "      <td>1</td>\n",
       "    </tr>\n",
       "    <tr>\n",
       "      <th>2</th>\n",
       "      <td>Samsung Galaxy A71</td>\n",
       "      <td>Máy mua mới từ tháng 5/2020 Dùng được 3 tháng thì cắm sạc không vào ( điện_thoại không rơi vào nước không để nước vào ) Mang ra bảo_hành thì báo lỗi cá_nhân không được bảo_hành thay mất 800 k</td>\n",
       "      <td>0</td>\n",
       "      <td>1</td>\n",
       "    </tr>\n",
       "  </tbody>\n",
       "</table>\n",
       "</div>"
      ],
      "text/plain": [
       "                model  \\\n",
       "0  Samsung Galaxy A71   \n",
       "1  Samsung Galaxy A71   \n",
       "2  Samsung Galaxy A71   \n",
       "\n",
       "                                                                                                                                                                                              Text  \\\n",
       "0                                                                                                     Dùng được 1 tháng thì sạc đến 95 % là không lên nữa Rút sạc ra cắm lại thì 100 % khônng hiểu   \n",
       "1                                         Trời_ơi làm_ơn cho đổi máy khác đi mua mấy tháng giờ lỗi phần đánh_thức buồn kg trôi đưa đi kiểm_tra rồi về vẫn bị a71 là vậy sao làm_ơn đôi máy khác đi   \n",
       "2  Máy mua mới từ tháng 5/2020 Dùng được 3 tháng thì cắm sạc không vào ( điện_thoại không rơi vào nước không để nước vào ) Mang ra bảo_hành thì báo lỗi cá_nhân không được bảo_hành thay mất 800 k   \n",
       "\n",
       "   Sentiment  Star  \n",
       "0          0     1  \n",
       "1          0     1  \n",
       "2          0     1  "
      ]
     },
     "execution_count": 7,
     "metadata": {},
     "output_type": "execute_result"
    }
   ],
   "source": [
    "%%time\n",
    "#Thời gian xữ lý khá tốn thời gian: khoảng 2min 10s\n",
    "\n",
    "#Chuẩn hoá dữ liệu\n",
    "df[\"Text\"] = df.Text.apply(standardize_data)\n",
    "df[\"Text\"] = df.Text.apply(tokenizer)\n",
    "df.head(3)"
   ]
  },
  {
   "cell_type": "markdown",
   "metadata": {},
   "source": [
    "## III. Đặt Câu Hỏi"
   ]
  },
  {
   "cell_type": "markdown",
   "metadata": {},
   "source": [
    "**1. Top 10 điện thoại có nhiều comment nhất? Top 10 điện thoại có ít comment nhất?**\n",
    "\n",
    "**2. Số lượng comment trung bình trên 1 điện thoại?**\n",
    "\n",
    "**3. Tỉ lệ tương quan giữa mức độ hài lòng của các comment?**"
   ]
  },
  {
   "cell_type": "markdown",
   "metadata": {},
   "source": [
    "## IV. Trả Lời Câu Hỏi"
   ]
  },
  {
   "cell_type": "markdown",
   "metadata": {},
   "source": [
    "#### 1. Top 10 điện thoại có nhiều comment nhất?"
   ]
  },
  {
   "cell_type": "code",
   "execution_count": 11,
   "metadata": {},
   "outputs": [
    {
     "data": {
      "image/png": "[encoded data removed]",
      "text/plain": [
       "<Figure size 576x432 with 1 Axes>"
      ]
     },
     "metadata": {
      "needs_background": "light"
     },
     "output_type": "display_data"
    }
   ],
   "source": [
    "totalCommentCount = df.model.value_counts()\n",
    "mostComment = totalCommentCount.head(10)\n",
    "plt.figure(figsize=(8, 6))\n",
    "plt.xlabel(\"Số lượng comment\")\n",
    "plt.ylabel(\"Tên điện thoại\")\n",
    "plt.title('Top 10 điện thoại có nhiều comment nhất', color = 'blue')\n",
    "mostComment.plot.barh()\n",
    "plt.show()"
   ]
  },
  {
   "cell_type": "code",
   "execution_count": 12,
   "metadata": {},
   "outputs": [
    {
     "data": {
      "image/png": "[encoded data removed]",
      "text/plain": [
       "<Figure size 576x432 with 1 Axes>"
      ]
     },
     "metadata": {
      "needs_background": "light"
     },
     "output_type": "display_data"
    }
   ],
   "source": [
    "# Số lượng comment của từng điện thoại\n",
    "totalCommentCount = df.model.value_counts()\n",
    "lessComment = totalCommentCount[::-1].head(10)\n",
    "plt.figure(figsize=(8, 6))\n",
    "plt.xlabel(\"Số lượng comment\")\n",
    "plt.ylabel(\"Tên điện thoại\")\n",
    "plt.title('Top 10 điện thoại có ít comment nhất'\n",
    "          ,color = 'blue')\n",
    "lessComment.plot.barh()\n",
    "plt.show()"
   ]
  },
  {
   "cell_type": "markdown",
   "metadata": {},
   "source": [
    "Như ta thấy sự chênh số lượng comment ở các điện thoại là rất lớn, với max là 1200 commnent và min là 1 comment, từ đó đánh giá được sự bộ dữ liệu đầu vào là có sự chênh lệch lớn\n",
    "\n",
    "==> vì vậy để chọn được tập test có thể đánh giá được mô hình học thì nên ưa tiên các dòng điện thoại có nhiều comment "
   ]
  },
  {
   "cell_type": "markdown",
   "metadata": {},
   "source": [
    "#### 2. Số lượng comment trung bình trên 1 điện thoại?"
   ]
  },
  {
   "cell_type": "code",
   "execution_count": 13,
   "metadata": {},
   "outputs": [
    {
     "name": "stdout",
     "output_type": "stream",
     "text": [
      "Số lượng comment trung bình trên 1 điện thoại là 109\n"
     ]
    }
   ],
   "source": [
    "numOfComment = len(df)\n",
    "numOfPhone = len(df.model.unique())\n",
    "\n",
    "if numOfPhone == 0:\n",
    "    print(\"Dữ liệu sai\")\n",
    "else:\n",
    "    avg = numOfComment/numOfPhone\n",
    "    print(\"Số lượng comment trung bình trên 1 điện thoại là {}\".format(int(avg)))"
   ]
  },
  {
   "cell_type": "markdown",
   "metadata": {},
   "source": [
    "==> Ta thấy số lượng comment trung bình của trên 1 điện thoại là 109, là con số khá ổn để đánh giá được điện thoại."
   ]
  },
  {
   "cell_type": "markdown",
   "metadata": {},
   "source": [
    "#### 3. Tỉ lệ tương quan giữa mức độ hài lòng của các comment?"
   ]
  },
  {
   "cell_type": "code",
   "execution_count": 14,
   "metadata": {},
   "outputs": [
    {
     "data": {
      "image/png": "[encoded data removed]",
      "text/plain": [
       "<Figure size 720x720 with 2 Axes>"
      ]
     },
     "metadata": {},
     "output_type": "display_data"
    }
   ],
   "source": [
    "fig, (ax1,ax2) = plt.subplots(1,2,figsize=(10,10))\n",
    "\n",
    "#Tỉ lệ comment theo sô sao\n",
    "labels = df.Star.value_counts().index\n",
    "sizes = df.Star.value_counts().values\n",
    "ax1.pie(sizes, labels=labels, autopct='%1.1f%%')\n",
    "\n",
    "labels = ['Tích cực', 'Tiêu cực']\n",
    "sizes = df.Sentiment.value_counts().values\n",
    "ax2.pie(sizes, labels=labels, autopct='%1.1f%%')\n",
    "\n",
    "plt.show()"
   ]
  },
  {
   "cell_type": "markdown",
   "metadata": {},
   "source": [
    "Ta thấy mức độ phân bố của comment tích cực là **72.7%** và tiêu cực là **27.3 %**, tỉ lệ gần với **7:3**, tức là **trung bình 1 điện thoại có khoảng 70% là comment tốt, và 30% comment xấu**\n",
    "\n",
    "==> từ đây ta có thể phỏng đoán được công thức cơ bản để **xác định mẩu điện thoại là đáng mua hay không bằng cách tính tỉ lệ phần trăm comment tốt.**\n",
    "\n",
    "Để xác định là đáng mua thì sản phẩm phải từ khá trở lên, có nghĩa là hơn trung bình, nên ta cần chọn 1 con số lớn hơn so với trung bình để xác định đúng hơn về sản phẩm được đánh giá, ở đây nhóm chọn **mức kì vọng là 80%**.\n",
    "- Trên 80%, sản phẩm đáng mua\n",
    "- Dưới 80%, cần xem xét kỉ"
   ]
  },
  {
   "cell_type": "markdown",
   "metadata": {},
   "source": [
    "## V. Dự Đoán Dữ Liệu Dựa Trên Quá Trình Học Máy"
   ]
  },
  {
   "cell_type": "markdown",
   "metadata": {},
   "source": [
    "#### 1. Chia tập dữ liệu"
   ]
  },
  {
   "cell_type": "markdown",
   "metadata": {},
   "source": [
    "Từ tập dữ liệu gốc ta chia tập dữ liệu thành 2 tập test và train:\n",
    "- Tập train để huấn luyện model\n",
    "- Tập test để kiểm tra model sau khi nó đã được train xong"
   ]
  },
  {
   "cell_type": "code",
   "execution_count": 15,
   "metadata": {},
   "outputs": [
    {
     "data": {
      "text/plain": [
       "613"
      ]
     },
     "execution_count": 15,
     "metadata": {},
     "output_type": "execute_result"
    }
   ],
   "source": [
    "test = df[(df.model == 'Vsmart Joy 3')]\n",
    "len(test)"
   ]
  },
  {
   "cell_type": "code",
   "execution_count": 16,
   "metadata": {},
   "outputs": [],
   "source": [
    "# tách tập test từ dữ liệu\n",
    "train = df.drop(test.index, axis=0)"
   ]
  },
  {
   "cell_type": "markdown",
   "metadata": {},
   "source": [
    "Từ tập dữ liệu train ở trên ta chia thành 2 train và val:\n",
    "- Tập train là dữ liệu thật sự để huấn luyện model\n",
    "- Tập val là dữ liệu đóng vai trò test trong quá trình huấn luyện model, nhằm mục đích chọn các siêu tham số phù hợp với dữ liệu"
   ]
  },
  {
   "cell_type": "code",
   "execution_count": 17,
   "metadata": {
    "colab": {
     "base_uri": "https://localhost:8080/"
    },
    "id": "uUqoh8Cta96g",
    "outputId": "c3a78298-dd01-4de3-c0e4-e72943446102"
   },
   "outputs": [],
   "source": [
    "# Convert to X_train, y_train\n",
    "X_train, X_val, y_train, y_val = train_test_split(train[\"Text\"], train[\"Sentiment\"], test_size=0.2, random_state=42)"
   ]
  },
  {
   "cell_type": "markdown",
   "metadata": {},
   "source": [
    "#### 2. Huấn luyện mô hình học"
   ]
  },
  {
   "cell_type": "code",
   "execution_count": 18,
   "metadata": {
    "id": "lFChX_Q7a96e"
   },
   "outputs": [],
   "source": [
    "emb = None\n",
    "def embedding(X_train, X_test):\n",
    "    global  emb\n",
    "    emb = TfidfVectorizer(min_df=5, max_df=0.8, max_features=3000, sublinear_tf=True)\n",
    "    emb.fit(X_train)\n",
    "    X_train = emb.transform(X_train)\n",
    "    X_test = emb.transform(X_test)\n",
    "\n",
    "    # Save pkl file\n",
    "    joblib.dump(emb, 'tfidf.pkl')\n",
    "    # print(X_train, X_test)\n",
    "    return X_train, X_test"
   ]
  },
  {
   "cell_type": "code",
   "execution_count": 19,
   "metadata": {
    "colab": {
     "base_uri": "https://localhost:8080/"
    },
    "id": "NzFlF0n4a96g",
    "outputId": "20ba93e6-658a-414b-8a6f-4d506aa8737d"
   },
   "outputs": [
    {
     "name": "stdout",
     "output_type": "stream",
     "text": [
      "Model score= 0.8293593794886527\n",
      "Wall time: 1min 4s\n"
     ]
    }
   ],
   "source": [
    "%%time\n",
    "\n",
    "\n",
    "#Embeding X_train\n",
    "X_train, X_val = embedding(X_train, X_val)\n",
    "\n",
    "#Train and save model\n",
    "model = svm.SVC(kernel='rbf', C = 1, gamma='scale')\n",
    "model.fit(X_train,y_train)\n",
    "joblib.dump(model, 'saved_model.pkl')\n",
    "\n",
    "print(\"Model score=\", model.score(X_val, y_val))"
   ]
  },
  {
   "cell_type": "markdown",
   "metadata": {},
   "source": [
    "#### 3. Đánh giá mô hình học"
   ]
  },
  {
   "cell_type": "code",
   "execution_count": 20,
   "metadata": {},
   "outputs": [],
   "source": [
    "# Embedding\n",
    "emb = joblib.load('tfidf.pkl')\n",
    "X_test  = emb.transform(test.Text)\n",
    "y_test = test.Sentiment.values\n",
    "\n",
    "#  Load weights\n",
    "model = joblib.load('saved_model.pkl')\n",
    "\n",
    "#  Result\n",
    "rc = model.predict(X_test)"
   ]
  },
  {
   "cell_type": "code",
   "execution_count": 21,
   "metadata": {},
   "outputs": [
    {
     "name": "stdout",
     "output_type": "stream",
     "text": [
      "Tỉ lệ dự đoán chính xác là  0.8450244698205547\n"
     ]
    }
   ],
   "source": [
    "print(\"Tỉ lệ dự đoán chính xác là \" ,accuracy_score(y_test, rc))"
   ]
  },
  {
   "cell_type": "markdown",
   "metadata": {},
   "source": [
    "#### 4. Đánh giá sản phẩm"
   ]
  },
  {
   "cell_type": "markdown",
   "metadata": {},
   "source": [
    "*Dựa vào phân tích khi trả lời câu hỏi số 3*\n",
    "\n",
    "Để đánh giá điện thoại là có đáng mua hay không, nhóm đánh giá theo công thức là:\n",
    "\n",
    "- *Điện thoại đáng mua là điện thoại có tỉ lệ comment tốt trên 80%*"
   ]
  },
  {
   "cell_type": "code",
   "execution_count": 20,
   "metadata": {
    "id": "TWlTWUH4hBHU"
   },
   "outputs": [],
   "source": [
    "def analyze(result):\n",
    "    bad = np.count_nonzero(result)\n",
    "    good = len(result) - bad\n",
    "    print(\"Number of bad and neutral comments = \", bad)\n",
    "    print(\"Number of good comments = \", good)\n",
    "\n",
    "    if good/(bad+good) > 0.8:\n",
    "        print(\"==> Tốt, sản phẩm đáng mua!\")\n",
    "    else:\n",
    "        print(\"==> Tệ, cần được xem xét kĩ trước khi mua!\")"
   ]
  },
  {
   "cell_type": "code",
   "execution_count": 21,
   "metadata": {},
   "outputs": [
    {
     "name": "stdout",
     "output_type": "stream",
     "text": [
      "Number of bad and neutral comments =  461\n",
      "Number of good comments =  152\n",
      "==> Tệ, cần được xem xét kĩ trước khi mua!\n"
     ]
    }
   ],
   "source": [
    "analyze(rc)"
   ]
  },
  {
   "cell_type": "markdown",
   "metadata": {},
   "source": [
    "**Qua kết quả trên ta thấy có 152 comments tốt về sản phẩm, 461 comment xấu. Nên chúng ta cần kiểm tra kĩ trước khi mua nó**"
   ]
  },
  {
   "cell_type": "markdown",
   "metadata": {},
   "source": [
    "---"
   ]
  },
  {
   "cell_type": "markdown",
   "metadata": {},
   "source": [
    "## KÌ VỌNG TRONG TƯƠNG LAI"
   ]
  },
  {
   "cell_type": "markdown",
   "metadata": {},
   "source": [
    "Tập dữ liệu này được crawl từ trang thegioididong.com, nhóm đánh giá các comment trên trang web này là trung thực và không có các comment giả để tăng khả năng bán hàng.\n",
    "\n",
    "==> Do đó khi áp dụng mô hình này vào các comment trên các nền tảng bán hàng online khác như tiki hay lazada thì kết quả sẽ không cho được tỉ lệ dự đoán chính xác vì trên các nên tảng này chứa khá nhiều comment giả để tăng uy tín.\n",
    "\n",
    "Do đó: **Kì vọng của nhóm là có thể tạo được mô hình học có thể phân biệt comment thật/ comment giả, từ đó có thể áp dụng cho nhiều nền tảng bán hàng.**"
   ]
  },
  {
   "cell_type": "markdown",
   "metadata": {},
   "source": [
    "---"
   ]
  },
  {
   "cell_type": "markdown",
   "metadata": {},
   "source": [
    "## NHÌN LẠI QUÁ TRÌNH LÀM ĐỐ ÁN"
   ]
  },
  {
   "cell_type": "markdown",
   "metadata": {},
   "source": [
    "**Khó khăn:** \n",
    "\n",
    "* việc lựa chọn được một dataset phù hợp và đưa ra chủ đề là khá tốn thời gian, chiếm khoảng 2/3 tổng thời gian làm đồ án\n",
    "* Vì tập data này là khá nhỏ (18018 dòng, 4 cột) nên việc mô hình học đạt tỉ lệ cao trên 90% là khá khó, vì không thể áp dụng các thuật toán deep learning"
   ]
  },
  {
   "cell_type": "markdown",
   "metadata": {},
   "source": [
    "## TÀI LIỆU THAM KHẢO"
   ]
  },
  {
   "cell_type": "markdown",
   "metadata": {},
   "source": [
    "1. Tham khảo các tài liệu từ các notebook có sẳn trên [Kaggle](https://www.kaggle.com/)\n",
    "\n",
    "2. https://gate.ac.uk/sale/nle-svm/svm-ie.pdf\n",
    "\n",
    "3. http://aurelieherbelot.net/resources/slides/teaching/SVMs.pdf"
   ]
  },
  {
   "cell_type": "code",
   "execution_count": null,
   "metadata": {},
   "outputs": [],
   "source": []
  }
 ],
 "metadata": {
  "colab": {
   "collapsed_sections": [],
   "name": "da_train.ipynb",
   "provenance": []
  },
  "kernelspec": {
   "display_name": "Python 3",
   "language": "python",
   "name": "python3"
  },
  "language_info": {
   "codemirror_mode": {
    "name": "ipython",
    "version": 3
   },
   "file_extension": ".py",
   "mimetype": "text/x-python",
   "name": "python",
   "nbconvert_exporter": "python",
   "pygments_lexer": "ipython3",
   "version": "3.7.6"
  },
  "widgets": {
   "application/vnd.jupyter.widget-state+json": {
    "083fd0179d264bb484bbbddfc3387804": {
     "model_module": "@jupyter-widgets/base",
     "model_name": "LayoutModel",
     "state": {
      "_model_module": "@jupyter-widgets/base",
      "_model_module_version": "1.2.0",
      "_model_name": "LayoutModel",
      "_view_count": null,
      "_view_module": "@jupyter-widgets/base",
      "_view_module_version": "1.2.0",
      "_view_name": "LayoutView",
      "align_content": null,
      "align_items": null,
      "align_self": null,
      "border": null,
      "bottom": null,
      "display": null,
      "flex": null,
      "flex_flow": null,
      "grid_area": null,
      "grid_auto_columns": null,
      "grid_auto_flow": null,
      "grid_auto_rows": null,
      "grid_column": null,
      "grid_gap": null,
      "grid_row": null,
      "grid_template_areas": null,
      "grid_template_columns": null,
      "grid_template_rows": null,
      "height": null,
      "justify_content": null,
      "justify_items": null,
      "left": null,
      "margin": null,
      "max_height": null,
      "max_width": null,
      "min_height": null,
      "min_width": null,
      "object_fit": null,
      "object_position": null,
      "order": null,
      "overflow": null,
      "overflow_x": null,
      "overflow_y": null,
      "padding": null,
      "right": null,
      "top": null,
      "visibility": null,
      "width": null
     }
    },
    "0be08d52e1b64e96be87fe83440773b9": {
     "model_module": "@jupyter-widgets/base",
     "model_name": "LayoutModel",
     "state": {
      "_model_module": "@jupyter-widgets/base",
      "_model_module_version": "1.2.0",
      "_model_name": "LayoutModel",
      "_view_count": null,
      "_view_module": "@jupyter-widgets/base",
      "_view_module_version": "1.2.0",
      "_view_name": "LayoutView",
      "align_content": null,
      "align_items": null,
      "align_self": null,
      "border": null,
      "bottom": null,
      "display": null,
      "flex": null,
      "flex_flow": null,
      "grid_area": null,
      "grid_auto_columns": null,
      "grid_auto_flow": null,
      "grid_auto_rows": null,
      "grid_column": null,
      "grid_gap": null,
      "grid_row": null,
      "grid_template_areas": null,
      "grid_template_columns": null,
      "grid_template_rows": null,
      "height": null,
      "justify_content": null,
      "justify_items": null,
      "left": null,
      "margin": null,
      "max_height": null,
      "max_width": null,
      "min_height": null,
      "min_width": null,
      "object_fit": null,
      "object_position": null,
      "order": null,
      "overflow": null,
      "overflow_x": null,
      "overflow_y": null,
      "padding": null,
      "right": null,
      "top": null,
      "visibility": null,
      "width": null
     }
    },
    "0eba3a47b833468085316cf14683fff8": {
     "model_module": "@jupyter-widgets/controls",
     "model_name": "ProgressStyleModel",
     "state": {
      "_model_module": "@jupyter-widgets/controls",
      "_model_module_version": "1.5.0",
      "_model_name": "ProgressStyleModel",
      "_view_count": null,
      "_view_module": "@jupyter-widgets/base",
      "_view_module_version": "1.2.0",
      "_view_name": "StyleView",
      "bar_color": null,
      "description_width": "initial"
     }
    },
    "16d126bb9c214b5697a281957ca31b75": {
     "model_module": "@jupyter-widgets/controls",
     "model_name": "DescriptionStyleModel",
     "state": {
      "_model_module": "@jupyter-widgets/controls",
      "_model_module_version": "1.5.0",
      "_model_name": "DescriptionStyleModel",
      "_view_count": null,
      "_view_module": "@jupyter-widgets/base",
      "_view_module_version": "1.2.0",
      "_view_name": "StyleView",
      "description_width": ""
     }
    },
    "1cd733f6d38341b6b8fffff886d00ab4": {
     "model_module": "@jupyter-widgets/controls",
     "model_name": "HTMLModel",
     "state": {
      "_dom_classes": [],
      "_model_module": "@jupyter-widgets/controls",
      "_model_module_version": "1.5.0",
      "_model_name": "HTMLModel",
      "_view_count": null,
      "_view_module": "@jupyter-widgets/controls",
      "_view_module_version": "1.5.0",
      "_view_name": "HTMLView",
      "description": "",
      "description_tooltip": null,
      "layout": "IPY_MODEL_63f9895d305d43c5a531933b5ec7f51c",
      "placeholder": "​",
      "style": "IPY_MODEL_a564d5218c944b5cbc4df7242f596305",
      "value": " 232k/232k [00:00&lt;00:00, 2.09MB/s]"
     }
    },
    "30181612298042ebaac1503dcba70ca9": {
     "model_module": "@jupyter-widgets/controls",
     "model_name": "DescriptionStyleModel",
     "state": {
      "_model_module": "@jupyter-widgets/controls",
      "_model_module_version": "1.5.0",
      "_model_name": "DescriptionStyleModel",
      "_view_count": null,
      "_view_module": "@jupyter-widgets/base",
      "_view_module_version": "1.2.0",
      "_view_name": "StyleView",
      "description_width": ""
     }
    },
    "303af01502f143bf93718f49781e020f": {
     "model_module": "@jupyter-widgets/base",
     "model_name": "LayoutModel",
     "state": {
      "_model_module": "@jupyter-widgets/base",
      "_model_module_version": "1.2.0",
      "_model_name": "LayoutModel",
      "_view_count": null,
      "_view_module": "@jupyter-widgets/base",
      "_view_module_version": "1.2.0",
      "_view_name": "LayoutView",
      "align_content": null,
      "align_items": null,
      "align_self": null,
      "border": null,
      "bottom": null,
      "display": null,
      "flex": null,
      "flex_flow": null,
      "grid_area": null,
      "grid_auto_columns": null,
      "grid_auto_flow": null,
      "grid_auto_rows": null,
      "grid_column": null,
      "grid_gap": null,
      "grid_row": null,
      "grid_template_areas": null,
      "grid_template_columns": null,
      "grid_template_rows": null,
      "height": null,
      "justify_content": null,
      "justify_items": null,
      "left": null,
      "margin": null,
      "max_height": null,
      "max_width": null,
      "min_height": null,
      "min_width": null,
      "object_fit": null,
      "object_position": null,
      "order": null,
      "overflow": null,
      "overflow_x": null,
      "overflow_y": null,
      "padding": null,
      "right": null,
      "top": null,
      "visibility": null,
      "width": null
     }
    },
    "33e83ba5956143b6b023df01cec5cf3e": {
     "model_module": "@jupyter-widgets/controls",
     "model_name": "HTMLModel",
     "state": {
      "_dom_classes": [],
      "_model_module": "@jupyter-widgets/controls",
      "_model_module_version": "1.5.0",
      "_model_name": "HTMLModel",
      "_view_count": null,
      "_view_module": "@jupyter-widgets/controls",
      "_view_module_version": "1.5.0",
      "_view_name": "HTMLView",
      "description": "",
      "description_tooltip": null,
      "layout": "IPY_MODEL_6ed093d7bcee479f88642f668ed3061f",
      "placeholder": "​",
      "style": "IPY_MODEL_16d126bb9c214b5697a281957ca31b75",
      "value": " 268M/268M [00:09&lt;00:00, 28.2MB/s]"
     }
    },
    "392f1cda5c314983aea5e212e705c42c": {
     "model_module": "@jupyter-widgets/controls",
     "model_name": "HBoxModel",
     "state": {
      "_dom_classes": [],
      "_model_module": "@jupyter-widgets/controls",
      "_model_module_version": "1.5.0",
      "_model_name": "HBoxModel",
      "_view_count": null,
      "_view_module": "@jupyter-widgets/controls",
      "_view_module_version": "1.5.0",
      "_view_name": "HBoxView",
      "box_style": "",
      "children": [
       "IPY_MODEL_429baa75f3154d0c9c37a6c437808af3",
       "IPY_MODEL_76a234f6a01e466cb8d7993d28d62d76"
      ],
      "layout": "IPY_MODEL_303af01502f143bf93718f49781e020f"
     }
    },
    "429baa75f3154d0c9c37a6c437808af3": {
     "model_module": "@jupyter-widgets/controls",
     "model_name": "FloatProgressModel",
     "state": {
      "_dom_classes": [],
      "_model_module": "@jupyter-widgets/controls",
      "_model_module_version": "1.5.0",
      "_model_name": "FloatProgressModel",
      "_view_count": null,
      "_view_module": "@jupyter-widgets/controls",
      "_view_module_version": "1.5.0",
      "_view_name": "ProgressView",
      "bar_style": "success",
      "description": "Downloading: 100%",
      "description_tooltip": null,
      "layout": "IPY_MODEL_9703af47bbe548aa85412fa96bcf98c3",
      "max": 442,
      "min": 0,
      "orientation": "horizontal",
      "style": "IPY_MODEL_0eba3a47b833468085316cf14683fff8",
      "value": 442
     }
    },
    "4b346fc8ce6a4c5a90a538b6d6f7b541": {
     "model_module": "@jupyter-widgets/controls",
     "model_name": "HBoxModel",
     "state": {
      "_dom_classes": [],
      "_model_module": "@jupyter-widgets/controls",
      "_model_module_version": "1.5.0",
      "_model_name": "HBoxModel",
      "_view_count": null,
      "_view_module": "@jupyter-widgets/controls",
      "_view_module_version": "1.5.0",
      "_view_name": "HBoxView",
      "box_style": "",
      "children": [
       "IPY_MODEL_d487afe10dcb47978be50f16a2b05f79",
       "IPY_MODEL_1cd733f6d38341b6b8fffff886d00ab4"
      ],
      "layout": "IPY_MODEL_bdc082f46f8d4a5991c845ef9232d2e9"
     }
    },
    "63f9895d305d43c5a531933b5ec7f51c": {
     "model_module": "@jupyter-widgets/base",
     "model_name": "LayoutModel",
     "state": {
      "_model_module": "@jupyter-widgets/base",
      "_model_module_version": "1.2.0",
      "_model_name": "LayoutModel",
      "_view_count": null,
      "_view_module": "@jupyter-widgets/base",
      "_view_module_version": "1.2.0",
      "_view_name": "LayoutView",
      "align_content": null,
      "align_items": null,
      "align_self": null,
      "border": null,
      "bottom": null,
      "display": null,
      "flex": null,
      "flex_flow": null,
      "grid_area": null,
      "grid_auto_columns": null,
      "grid_auto_flow": null,
      "grid_auto_rows": null,
      "grid_column": null,
      "grid_gap": null,
      "grid_row": null,
      "grid_template_areas": null,
      "grid_template_columns": null,
      "grid_template_rows": null,
      "height": null,
      "justify_content": null,
      "justify_items": null,
      "left": null,
      "margin": null,
      "max_height": null,
      "max_width": null,
      "min_height": null,
      "min_width": null,
      "object_fit": null,
      "object_position": null,
      "order": null,
      "overflow": null,
      "overflow_x": null,
      "overflow_y": null,
      "padding": null,
      "right": null,
      "top": null,
      "visibility": null,
      "width": null
     }
    },
    "6ed093d7bcee479f88642f668ed3061f": {
     "model_module": "@jupyter-widgets/base",
     "model_name": "LayoutModel",
     "state": {
      "_model_module": "@jupyter-widgets/base",
      "_model_module_version": "1.2.0",
      "_model_name": "LayoutModel",
      "_view_count": null,
      "_view_module": "@jupyter-widgets/base",
      "_view_module_version": "1.2.0",
      "_view_name": "LayoutView",
      "align_content": null,
      "align_items": null,
      "align_self": null,
      "border": null,
      "bottom": null,
      "display": null,
      "flex": null,
      "flex_flow": null,
      "grid_area": null,
      "grid_auto_columns": null,
      "grid_auto_flow": null,
      "grid_auto_rows": null,
      "grid_column": null,
      "grid_gap": null,
      "grid_row": null,
      "grid_template_areas": null,
      "grid_template_columns": null,
      "grid_template_rows": null,
      "height": null,
      "justify_content": null,
      "justify_items": null,
      "left": null,
      "margin": null,
      "max_height": null,
      "max_width": null,
      "min_height": null,
      "min_width": null,
      "object_fit": null,
      "object_position": null,
      "order": null,
      "overflow": null,
      "overflow_x": null,
      "overflow_y": null,
      "padding": null,
      "right": null,
      "top": null,
      "visibility": null,
      "width": null
     }
    },
    "76a234f6a01e466cb8d7993d28d62d76": {
     "model_module": "@jupyter-widgets/controls",
     "model_name": "HTMLModel",
     "state": {
      "_dom_classes": [],
      "_model_module": "@jupyter-widgets/controls",
      "_model_module_version": "1.5.0",
      "_model_name": "HTMLModel",
      "_view_count": null,
      "_view_module": "@jupyter-widgets/controls",
      "_view_module_version": "1.5.0",
      "_view_name": "HTMLView",
      "description": "",
      "description_tooltip": null,
      "layout": "IPY_MODEL_9411ee44aafc4a9d95c44c6c9e10a77d",
      "placeholder": "​",
      "style": "IPY_MODEL_30181612298042ebaac1503dcba70ca9",
      "value": " 442/442 [00:00&lt;00:00, 509B/s]"
     }
    },
    "7bb56c70181c4cc29470f54fb91d6dcd": {
     "model_module": "@jupyter-widgets/controls",
     "model_name": "HBoxModel",
     "state": {
      "_dom_classes": [],
      "_model_module": "@jupyter-widgets/controls",
      "_model_module_version": "1.5.0",
      "_model_name": "HBoxModel",
      "_view_count": null,
      "_view_module": "@jupyter-widgets/controls",
      "_view_module_version": "1.5.0",
      "_view_name": "HBoxView",
      "box_style": "",
      "children": [
       "IPY_MODEL_e8d5d3235bbd4e3785c7375186536821",
       "IPY_MODEL_33e83ba5956143b6b023df01cec5cf3e"
      ],
      "layout": "IPY_MODEL_0be08d52e1b64e96be87fe83440773b9"
     }
    },
    "9411ee44aafc4a9d95c44c6c9e10a77d": {
     "model_module": "@jupyter-widgets/base",
     "model_name": "LayoutModel",
     "state": {
      "_model_module": "@jupyter-widgets/base",
      "_model_module_version": "1.2.0",
      "_model_name": "LayoutModel",
      "_view_count": null,
      "_view_module": "@jupyter-widgets/base",
      "_view_module_version": "1.2.0",
      "_view_name": "LayoutView",
      "align_content": null,
      "align_items": null,
      "align_self": null,
      "border": null,
      "bottom": null,
      "display": null,
      "flex": null,
      "flex_flow": null,
      "grid_area": null,
      "grid_auto_columns": null,
      "grid_auto_flow": null,
      "grid_auto_rows": null,
      "grid_column": null,
      "grid_gap": null,
      "grid_row": null,
      "grid_template_areas": null,
      "grid_template_columns": null,
      "grid_template_rows": null,
      "height": null,
      "justify_content": null,
      "justify_items": null,
      "left": null,
      "margin": null,
      "max_height": null,
      "max_width": null,
      "min_height": null,
      "min_width": null,
      "object_fit": null,
      "object_position": null,
      "order": null,
      "overflow": null,
      "overflow_x": null,
      "overflow_y": null,
      "padding": null,
      "right": null,
      "top": null,
      "visibility": null,
      "width": null
     }
    },
    "9703af47bbe548aa85412fa96bcf98c3": {
     "model_module": "@jupyter-widgets/base",
     "model_name": "LayoutModel",
     "state": {
      "_model_module": "@jupyter-widgets/base",
      "_model_module_version": "1.2.0",
      "_model_name": "LayoutModel",
      "_view_count": null,
      "_view_module": "@jupyter-widgets/base",
      "_view_module_version": "1.2.0",
      "_view_name": "LayoutView",
      "align_content": null,
      "align_items": null,
      "align_self": null,
      "border": null,
      "bottom": null,
      "display": null,
      "flex": null,
      "flex_flow": null,
      "grid_area": null,
      "grid_auto_columns": null,
      "grid_auto_flow": null,
      "grid_auto_rows": null,
      "grid_column": null,
      "grid_gap": null,
      "grid_row": null,
      "grid_template_areas": null,
      "grid_template_columns": null,
      "grid_template_rows": null,
      "height": null,
      "justify_content": null,
      "justify_items": null,
      "left": null,
      "margin": null,
      "max_height": null,
      "max_width": null,
      "min_height": null,
      "min_width": null,
      "object_fit": null,
      "object_position": null,
      "order": null,
      "overflow": null,
      "overflow_x": null,
      "overflow_y": null,
      "padding": null,
      "right": null,
      "top": null,
      "visibility": null,
      "width": null
     }
    },
    "9e1e27e78e82410f9607d41884b1e409": {
     "model_module": "@jupyter-widgets/base",
     "model_name": "LayoutModel",
     "state": {
      "_model_module": "@jupyter-widgets/base",
      "_model_module_version": "1.2.0",
      "_model_name": "LayoutModel",
      "_view_count": null,
      "_view_module": "@jupyter-widgets/base",
      "_view_module_version": "1.2.0",
      "_view_name": "LayoutView",
      "align_content": null,
      "align_items": null,
      "align_self": null,
      "border": null,
      "bottom": null,
      "display": null,
      "flex": null,
      "flex_flow": null,
      "grid_area": null,
      "grid_auto_columns": null,
      "grid_auto_flow": null,
      "grid_auto_rows": null,
      "grid_column": null,
      "grid_gap": null,
      "grid_row": null,
      "grid_template_areas": null,
      "grid_template_columns": null,
      "grid_template_rows": null,
      "height": null,
      "justify_content": null,
      "justify_items": null,
      "left": null,
      "margin": null,
      "max_height": null,
      "max_width": null,
      "min_height": null,
      "min_width": null,
      "object_fit": null,
      "object_position": null,
      "order": null,
      "overflow": null,
      "overflow_x": null,
      "overflow_y": null,
      "padding": null,
      "right": null,
      "top": null,
      "visibility": null,
      "width": null
     }
    },
    "a564d5218c944b5cbc4df7242f596305": {
     "model_module": "@jupyter-widgets/controls",
     "model_name": "DescriptionStyleModel",
     "state": {
      "_model_module": "@jupyter-widgets/controls",
      "_model_module_version": "1.5.0",
      "_model_name": "DescriptionStyleModel",
      "_view_count": null,
      "_view_module": "@jupyter-widgets/base",
      "_view_module_version": "1.2.0",
      "_view_name": "StyleView",
      "description_width": ""
     }
    },
    "bc122e13265f43109f292e82e9a76810": {
     "model_module": "@jupyter-widgets/controls",
     "model_name": "ProgressStyleModel",
     "state": {
      "_model_module": "@jupyter-widgets/controls",
      "_model_module_version": "1.5.0",
      "_model_name": "ProgressStyleModel",
      "_view_count": null,
      "_view_module": "@jupyter-widgets/base",
      "_view_module_version": "1.2.0",
      "_view_name": "StyleView",
      "bar_color": null,
      "description_width": "initial"
     }
    },
    "bdc082f46f8d4a5991c845ef9232d2e9": {
     "model_module": "@jupyter-widgets/base",
     "model_name": "LayoutModel",
     "state": {
      "_model_module": "@jupyter-widgets/base",
      "_model_module_version": "1.2.0",
      "_model_name": "LayoutModel",
      "_view_count": null,
      "_view_module": "@jupyter-widgets/base",
      "_view_module_version": "1.2.0",
      "_view_name": "LayoutView",
      "align_content": null,
      "align_items": null,
      "align_self": null,
      "border": null,
      "bottom": null,
      "display": null,
      "flex": null,
      "flex_flow": null,
      "grid_area": null,
      "grid_auto_columns": null,
      "grid_auto_flow": null,
      "grid_auto_rows": null,
      "grid_column": null,
      "grid_gap": null,
      "grid_row": null,
      "grid_template_areas": null,
      "grid_template_columns": null,
      "grid_template_rows": null,
      "height": null,
      "justify_content": null,
      "justify_items": null,
      "left": null,
      "margin": null,
      "max_height": null,
      "max_width": null,
      "min_height": null,
      "min_width": null,
      "object_fit": null,
      "object_position": null,
      "order": null,
      "overflow": null,
      "overflow_x": null,
      "overflow_y": null,
      "padding": null,
      "right": null,
      "top": null,
      "visibility": null,
      "width": null
     }
    },
    "d127a524e68e4871b3cf250e816b1d96": {
     "model_module": "@jupyter-widgets/controls",
     "model_name": "ProgressStyleModel",
     "state": {
      "_model_module": "@jupyter-widgets/controls",
      "_model_module_version": "1.5.0",
      "_model_name": "ProgressStyleModel",
      "_view_count": null,
      "_view_module": "@jupyter-widgets/base",
      "_view_module_version": "1.2.0",
      "_view_name": "StyleView",
      "bar_color": null,
      "description_width": "initial"
     }
    },
    "d487afe10dcb47978be50f16a2b05f79": {
     "model_module": "@jupyter-widgets/controls",
     "model_name": "FloatProgressModel",
     "state": {
      "_dom_classes": [],
      "_model_module": "@jupyter-widgets/controls",
      "_model_module_version": "1.5.0",
      "_model_name": "FloatProgressModel",
      "_view_count": null,
      "_view_module": "@jupyter-widgets/controls",
      "_view_module_version": "1.5.0",
      "_view_name": "ProgressView",
      "bar_style": "success",
      "description": "Downloading: 100%",
      "description_tooltip": null,
      "layout": "IPY_MODEL_083fd0179d264bb484bbbddfc3387804",
      "max": 231508,
      "min": 0,
      "orientation": "horizontal",
      "style": "IPY_MODEL_d127a524e68e4871b3cf250e816b1d96",
      "value": 231508
     }
    },
    "e8d5d3235bbd4e3785c7375186536821": {
     "model_module": "@jupyter-widgets/controls",
     "model_name": "FloatProgressModel",
     "state": {
      "_dom_classes": [],
      "_model_module": "@jupyter-widgets/controls",
      "_model_module_version": "1.5.0",
      "_model_name": "FloatProgressModel",
      "_view_count": null,
      "_view_module": "@jupyter-widgets/controls",
      "_view_module_version": "1.5.0",
      "_view_name": "ProgressView",
      "bar_style": "success",
      "description": "Downloading: 100%",
      "description_tooltip": null,
      "layout": "IPY_MODEL_9e1e27e78e82410f9607d41884b1e409",
      "max": 267967963,
      "min": 0,
      "orientation": "horizontal",
      "style": "IPY_MODEL_bc122e13265f43109f292e82e9a76810",
      "value": 267967963
     }
    }
   }
  }
 },
 "nbformat": 4,
 "nbformat_minor": 4
}
